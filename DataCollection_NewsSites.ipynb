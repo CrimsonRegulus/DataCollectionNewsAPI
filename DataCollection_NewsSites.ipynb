{
  "nbformat": 4,
  "nbformat_minor": 0,
  "metadata": {
    "colab": {
      "name": "DataCollection-NewsSites.ipynb",
      "provenance": [],
      "collapsed_sections": [],
      "toc_visible": true
    },
    "kernelspec": {
      "name": "python3",
      "display_name": "Python 3"
    }
  },
  "cells": [
    {
      "cell_type": "markdown",
      "metadata": {
        "id": "VGaUzAHl3tNX"
      },
      "source": [
        "# Data Collection - News Sites\r\n"
      ]
    },
    {
      "cell_type": "markdown",
      "metadata": {
        "id": "gbdfuw_v357W"
      },
      "source": [
        "Install NewsAPI"
      ]
    },
    {
      "cell_type": "code",
      "metadata": {
        "colab": {
          "base_uri": "https://localhost:8080/"
        },
        "id": "cyxfsIdFY4rc",
        "outputId": "f36af7e8-80fe-4719-d637-8e705942c03b"
      },
      "source": [
        "pip install newsapi-python"
      ],
      "execution_count": null,
      "outputs": [
        {
          "output_type": "stream",
          "text": [
            "Requirement already satisfied: newsapi-python in /usr/local/lib/python3.7/dist-packages (0.2.6)\n",
            "Requirement already satisfied: requests<3.0.0 in /usr/local/lib/python3.7/dist-packages (from newsapi-python) (2.23.0)\n",
            "Requirement already satisfied: chardet<4,>=3.0.2 in /usr/local/lib/python3.7/dist-packages (from requests<3.0.0->newsapi-python) (3.0.4)\n",
            "Requirement already satisfied: urllib3!=1.25.0,!=1.25.1,<1.26,>=1.21.1 in /usr/local/lib/python3.7/dist-packages (from requests<3.0.0->newsapi-python) (1.24.3)\n",
            "Requirement already satisfied: idna<3,>=2.5 in /usr/local/lib/python3.7/dist-packages (from requests<3.0.0->newsapi-python) (2.10)\n",
            "Requirement already satisfied: certifi>=2017.4.17 in /usr/local/lib/python3.7/dist-packages (from requests<3.0.0->newsapi-python) (2020.12.5)\n"
          ],
          "name": "stdout"
        }
      ]
    },
    {
      "cell_type": "markdown",
      "metadata": {
        "id": "EfyIuxxp3zb0"
      },
      "source": [
        "Import libraries"
      ]
    },
    {
      "cell_type": "code",
      "metadata": {
        "id": "YYX62ndxZCTW"
      },
      "source": [
        "from newsapi import NewsApiClient\r\n",
        "import datetime as dt\r\n",
        "import pandas as pd\r\n",
        "import json"
      ],
      "execution_count": null,
      "outputs": []
    },
    {
      "cell_type": "markdown",
      "metadata": {
        "id": "-baf58I83-rk"
      },
      "source": [
        "NewsAPI key\r\n"
      ]
    },
    {
      "cell_type": "code",
      "metadata": {
        "id": "y9PAdm2dZlaz"
      },
      "source": [
        "newsapi = NewsApiClient(api_key=\"8f35f0d8352142ca84dac179110e6ae4\")"
      ],
      "execution_count": null,
      "outputs": []
    },
    {
      "cell_type": "markdown",
      "metadata": {
        "id": "U6bXfpHn4HRC"
      },
      "source": [
        "Get news from 'gmanetwork.com' from March 12, 2021 to March 13, 2021"
      ]
    },
    {
      "cell_type": "code",
      "metadata": {
        "colab": {
          "base_uri": "https://localhost:8080/"
        },
        "id": "5bP31NrYZmWH",
        "outputId": "260bf0c9-1680-4cfe-b644-2328db7f3097"
      },
      "source": [
        "data = newsapi.get_everything(domains='gmanetwork.com', from_param='2021-03-12', to='2021-03-13')\r\n",
        "print(data['totalResults'])"
      ],
      "execution_count": null,
      "outputs": [
        {
          "output_type": "stream",
          "text": [
            "20\n"
          ],
          "name": "stdout"
        }
      ]
    },
    {
      "cell_type": "markdown",
      "metadata": {
        "id": "u1EC6KPe4QXL"
      },
      "source": [
        "Print one news article"
      ]
    },
    {
      "cell_type": "code",
      "metadata": {
        "colab": {
          "base_uri": "https://localhost:8080/"
        },
        "id": "3iVk66hCaOHD",
        "outputId": "fc265444-3700-43e1-ff7a-133e95daf599"
      },
      "source": [
        "data['articles'][0]"
      ],
      "execution_count": null,
      "outputs": [
        {
          "output_type": "execute_result",
          "data": {
            "text/plain": [
              "{'author': 'Gma News Online',\n",
              " 'content': 'The body of an alleged drug pusher was left on the streets of a barangay in Caloocan City on Friday, according to Corrine Catibayan’s report on “24 Oras Weekend.”\\r\\n CCTV footage recorded two men wear… [+1119 chars]',\n",
              " 'description': 'The body of an alleged drug pusher was left on the streets of a barangay in Caloocan City on Friday, according to Corrine Catibayan&rsquo;s report on &ldquo;24 Oras Weekend.&rdquo;',\n",
              " 'publishedAt': '2021-03-13T22:30:04Z',\n",
              " 'source': {'id': None, 'name': 'GMA News'},\n",
              " 'title': 'Bound corpse left in Caloocan barangay',\n",
              " 'url': 'https://www.gmanetwork.com/news/news/metro/779564/bound-corpse-left-in-caloocan-barangay/story/',\n",
              " 'urlToImage': 'https://images.gmanews.tv/webpics/2021/03/Untitled_2021_03_13_22_21_35.jpg'}"
            ]
          },
          "metadata": {
            "tags": []
          },
          "execution_count": 52
        }
      ]
    },
    {
      "cell_type": "markdown",
      "metadata": {
        "id": "-qw4OW4H4Tp7"
      },
      "source": [
        "Print all news article"
      ]
    },
    {
      "cell_type": "code",
      "metadata": {
        "id": "5hY1dW6L3rRc"
      },
      "source": [
        "data"
      ],
      "execution_count": null,
      "outputs": []
    },
    {
      "cell_type": "markdown",
      "metadata": {
        "id": "Wwt5vznE4WkT"
      },
      "source": [
        "Save into .json file"
      ]
    },
    {
      "cell_type": "code",
      "metadata": {
        "id": "DOsEWd_s2kWe"
      },
      "source": [
        "with open('new_json.json', 'w') as outfile:\r\n",
        "    json.dump(data, outfile)"
      ],
      "execution_count": null,
      "outputs": []
    }
  ]
}